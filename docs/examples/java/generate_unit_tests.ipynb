{
 "cells": [
  {
   "cell_type": "code",
   "execution_count": null,
   "outputs": [],
   "source": [
    "!pip install ollama"
   ],
   "metadata": {
    "collapsed": false
   },
   "id": "b8da254b236c8a4b"
  },
  {
   "cell_type": "markdown",
   "source": [
    "Generating unit tests for code is a very tedious task and often takes a significant effort from the developers to write good test cases. There are various tools that are available for automated test generation, such as EvoSuite, which uses evolutionary algorithms to generate test cases. However, the test cases that are being generated are not natural and often developers do not prefer to add them to their test suite. Whereas Large Language Models (LLM) being trained with developer-written code it has a better affinity towards generating more natural code--more readable, maintainable code. In this excercise, we will show we can leverage LLMs to generate test cases with the help of CLDK. \n",
    "\n",
    "For simplicity, we will cover certain aspects of test generation and provide some context information to LLM for better quality of test cases. In this exercise, we will generate a unit test for a non-private method from a Java class and provide the focal method body and the signature of all the constructors of the class so that LLM can understand how to create an object of the focal class during the setup phase of the tests. Also, we will ask LLMs to generate ```N``` number of test cases, where ```N``` is the cyclomatic complexity of the focal method. The intuition is that one test may not be sufficient for covering fairly complex methods, and a cyclomatic complexity score can provide some guidance towards that. \n",
    "\n",
    "(Step 1) First, we will import all the necessary libraries"
   ],
   "metadata": {
    "collapsed": false
   },
   "id": "5856baff4aa64ed7"
  },
  {
   "cell_type": "code",
   "execution_count": null,
   "outputs": [],
   "source": [
    "import ollama\n",
    "from cldk import CLDK\n",
    "from cldk.analysis import AnalysisLevel"
   ],
   "metadata": {
    "collapsed": false
   },
   "id": "b3d2498ae092fcc"
  },
  {
   "cell_type": "markdown",
   "source": [
    "(Step 2) Second, we will form the prompt for the model, which will include all the constructor signarures, and the body of the focal method."
   ],
   "metadata": {
    "collapsed": false
   },
   "id": "67eb24b29826d730"
  },
  {
   "cell_type": "code",
   "execution_count": null,
   "outputs": [],
   "source": [
    "def format_inst(focal_method_body, focal_method, focal_class, constructor_signatures, cyclomatic_complexity, language):\n",
    "    \"\"\"\n",
    "    Format the instruction for the given focal method and class.\n",
    "    \"\"\"\n",
    "    inst = f\"Question: Can you generate {cyclomatic_complexity} unit tests for the method `{focal_method}` in the class `{focal_class}` below?\\n\"\n",
    "\n",
    "    inst += \"\\n\"\n",
    "    inst += f\"```{language}\\n\"\n",
    "    inst += \"```\\n\"\n",
    "    inst += \"public class {focal_class} {\"\n",
    "    inst += f\"<|constructors|>\\n{constructor_signatures}\\n<|constructors|>\\n\"\n",
    "    inst += f\"<|focal method|>\\n {focal_method_body} \\n <|focal method|>\\n\" \n",
    "    inst += \"}\"\n",
    "    inst += \"```\\n\"\n",
    "    inst += \"Answer:\\n\"\n",
    "    return inst"
   ],
   "metadata": {
    "collapsed": false
   },
   "id": "d7bc9bbaa917df24"
  },
  {
   "cell_type": "markdown",
   "source": [
    "(Step 3) Third, use ollama to call LLM (in case Granite 8b)."
   ],
   "metadata": {
    "collapsed": false
   },
   "id": "ae9ceb150f5efa92"
  },
  {
   "cell_type": "code",
   "execution_count": null,
   "outputs": [],
   "source": [
    "def prompt_ollama(message: str, model_id: str = \"granite-code:20b-instruct\") -> str:\n",
    "    \"\"\"Prompt local model on Ollama\"\"\"\n",
    "    response_object = ollama.generate(model=model_id, prompt=message)\n",
    "    return response_object[\"response\"]"
   ],
   "metadata": {
    "collapsed": false
   },
   "id": "52634feae7374599"
  },
  {
   "cell_type": "markdown",
   "source": [
    "(Step 4) Fourth, collect all the information needed for each method. In this process, we go through all the classes in the application, and then for each class, we collect the signature of all the constructors. If there is no constructor present, we add the signature of the default constructor. Then, we go through all the non-private methods of the class and formulate the prompt using the constructor and the method information. Finally, we use the prompt to call LLM and get the final output."
   ],
   "metadata": {
    "collapsed": false
   },
   "id": "308c3325116b87d4"
  },
  {
   "cell_type": "code",
   "execution_count": null,
   "outputs": [],
   "source": [
    "# Create a new instance of the CLDK class\n",
    "cldk = CLDK(language=\"java\")\n",
    "# Create an analysis object over the java application. Provide the application path using JAVA_APP_PATH\n",
    "analysis = cldk.analysis(project_path=\"JAVA_APP_PATH\", analysis_level=AnalysisLevel.symbol_table)\n",
    "# Go through all the classes in the application\n",
    "for class_name in analysis.get_classes():\n",
    "    class_details  = analysis.get_class(qualified_class_name=class_name)\n",
    "    # Generate test cases for non-interface and non-abstract classes\n",
    "    if not class_details.is_interface and 'abstract' not in class_details.modifiers:\n",
    "        # Get all constructor signatures\n",
    "        constructor_signatures = ''\n",
    "        for method in analysis.get_methods_in_class(qualified_class_name=class_name):\n",
    "            method_details = analysis.get_method(qualified_class_name=class_name, qualified_method_name=method)\n",
    "            if method_details.is_constructor:\n",
    "                constructor_signatures += method_details.signature + '\\n'\n",
    "        # If no constructor present, then add the signature of the default constructor\n",
    "        if constructor_signatures=='':\n",
    "            constructor_signatures = f'public {class_name} ()'\n",
    "        # Go through all the methods in the class\n",
    "        for method in analysis.get_methods_in_class(qualified_class_name=class_name):\n",
    "            # Get the method details\n",
    "            method_details = analysis.get_method(qualified_class_name=class_name, qualified_method_name=method)\n",
    "            # Generate test cases for non-private methods\n",
    "            if 'private' not in method_details.modifiers and not method_details.is_constructor:\n",
    "                # Gather all the information needed for the prompt, which are focal method body, focal method name, focal class name, constructor signature, and cyclomatic complexity\n",
    "                prompt = format_inst(focal_method_body=method_details.code,\n",
    "                                     focal_method=method,\n",
    "                                     focal_class=class_name,\n",
    "                                     constructor_signatures=constructor_signatures,\n",
    "                                     cyclomatic_complexity=method_details.cyclomatic_complexity)\n",
    "                # Prompt the local model on Ollama\n",
    "                llm_output = prompt_ollama(\n",
    "                    message=prompt,\n",
    "                    model_id=\"granite-code:20b-instruct\",\n",
    "                )\n",
    "        \n",
    "                # Print the instruction and LLM output\n",
    "                print(f\"Instruction:\\n{prompt}\")\n",
    "                print(f\"LLM Output:\\n{llm_output}\")"
   ],
   "metadata": {
    "collapsed": false
   },
   "id": "65c9558e4de65a52"
  }
 ],
 "metadata": {
  "kernelspec": {
   "display_name": "Python 3",
   "language": "python",
   "name": "python3"
  },
  "language_info": {
   "codemirror_mode": {
    "name": "ipython",
    "version": 2
   },
   "file_extension": ".py",
   "mimetype": "text/x-python",
   "name": "python",
   "nbconvert_exporter": "python",
   "pygments_lexer": "ipython2",
   "version": "2.7.6"
  }
 },
 "nbformat": 4,
 "nbformat_minor": 5
}
