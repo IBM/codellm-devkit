{
 "cells": [
  {
   "cell_type": "markdown",
   "id": "59d05bbe28e62687",
   "metadata": {
    "collapsed": false,
    "jupyter": {
     "outputs_hidden": false
    }
   },
   "source": [
    "# Using CLDK to explain Java methods\n",
    "\n",
    "In this tutorial, we will use CLDK to explain or generate code summary for a Java method. You'll explore some of the benefits of using CLDK to perform quick and easy program analysis and build an LLM-based code summarizer. By the end of this tutorial, you will have implemented such a tool and generated code summary for a Java method.\n",
    "\n",
    "Specifically, you will learn how to perform the following tasks on a Java application to create LLM prompts for code summarization:\n",
    "\n",
    "1. Create a new instance of the CLDK class.\n",
    "2. Create an analysis object for the target Java application.\n",
    "3. Iterate over all files in the application.\n",
    "4. Iterate over all classes in a file.\n",
    "5. Initialize treesitter utils for the class content.\n",
    "6. Iterate over all methods in a class.\n",
    "7. Get the code body of a method.\n",
    "8. Sanitize the class for prompting the LLM.\n",
    "\n",
    "We will write a couple of helper methods to (1) format the LLM instruction for summarizing a given target method and (2) prompt the LLM via Ollama. We will then use CLDK to go through an application and generate the summary for the target method."
   ]
  },
  {
   "cell_type": "markdown",
   "id": "92896c8ce12b0e9e",
   "metadata": {
    "collapsed": false,
    "jupyter": {
     "outputs_hidden": false
    }
   },
   "source": [
    "## Prequisites\n",
    "\n",
    "Before we get started, let's make sure you have the following installed:\n",
    "\n",
    "1. Python 3.11 or later (you can use [pyenv](https://github.com/pyenv/pyenv) to install Python)\n",
    "2. Java 11 or later (you can use [SDKMAN!](https://sdkman.io) to instal Java)\n",
    "3. Ollama 0.3.4 or later (you can get Ollama here: [Ollama download](https://ollama.com/download))\n",
    "\n",
    "We will use Ollama to spin up a local [Granite code model](https://ollama.com/library/granite-code), which will serve as our LLM for this turorial."
   ]
  },
  {
   "cell_type": "markdown",
   "id": "bfeb1e1227191e3b",
   "metadata": {
    "collapsed": false,
    "jupyter": {
     "outputs_hidden": false
    }
   },
   "source": [
    "### Download Granite code model\n",
    "\n",
    "After starting the Ollama server, please download the latest version of the Granite code 8b-instruct model by running the following command. There are other Granite code models available, but for this tutorial, we will use Granite code 8b-instruct. If you prefer to use a different Granite code model, you can replace `8b-instruct` with the tag of another version (see [Granite code tags](https://ollama.com/library/granite-code/tags))."
   ]
  },
  {
   "cell_type": "code",
   "execution_count": null,
   "id": "627e7184",
   "metadata": {},
   "outputs": [],
   "source": [
    "%%bash\n",
    "ollama pull granite-code:8b-instruct"
   ]
  },
  {
   "cell_type": "markdown",
   "id": "8cc1ca5b",
   "metadata": {},
   "source": [
    " Let's make sure the model is downloaded by running the following command:"
   ]
  },
  {
   "cell_type": "code",
   "execution_count": null,
   "id": "6ff900382e86a18e",
   "metadata": {
    "collapsed": false,
    "jupyter": {
     "outputs_hidden": false
    }
   },
   "outputs": [],
   "source": [
    "%%bash\n",
    "ollama run granite-code:8b-instruct \\\"Write a python function to print 'Hello, World!'"
   ]
  },
  {
   "cell_type": "markdown",
   "id": "531205b489bbec73",
   "metadata": {
    "collapsed": false,
    "jupyter": {
     "outputs_hidden": false
    }
   },
   "source": [
    "### Install Ollama Python SDK"
   ]
  },
  {
   "cell_type": "code",
   "execution_count": 2,
   "id": "e2a749932a800c9d",
   "metadata": {
    "collapsed": false,
    "jupyter": {
     "outputs_hidden": false
    }
   },
   "outputs": [
    {
     "name": "stdout",
     "output_type": "stream",
     "text": [
      "Collecting ollama\n",
      "  Downloading ollama-0.3.3-py3-none-any.whl (10 kB)\n",
      "Requirement already satisfied: httpx<0.28.0,>=0.27.0 in /Library/Frameworks/Python.framework/Versions/3.11/lib/python3.11/site-packages (from ollama) (0.27.2)\n",
      "Requirement already satisfied: anyio in /Library/Frameworks/Python.framework/Versions/3.11/lib/python3.11/site-packages (from httpx<0.28.0,>=0.27.0->ollama) (4.4.0)\n",
      "Requirement already satisfied: certifi in /Library/Frameworks/Python.framework/Versions/3.11/lib/python3.11/site-packages (from httpx<0.28.0,>=0.27.0->ollama) (2024.2.2)\n",
      "Requirement already satisfied: httpcore==1.* in /Library/Frameworks/Python.framework/Versions/3.11/lib/python3.11/site-packages (from httpx<0.28.0,>=0.27.0->ollama) (1.0.5)\n",
      "Requirement already satisfied: idna in /Library/Frameworks/Python.framework/Versions/3.11/lib/python3.11/site-packages (from httpx<0.28.0,>=0.27.0->ollama) (3.7)\n",
      "Requirement already satisfied: sniffio in /Library/Frameworks/Python.framework/Versions/3.11/lib/python3.11/site-packages (from httpx<0.28.0,>=0.27.0->ollama) (1.3.1)\n",
      "Requirement already satisfied: h11<0.15,>=0.13 in /Library/Frameworks/Python.framework/Versions/3.11/lib/python3.11/site-packages (from httpcore==1.*->httpx<0.28.0,>=0.27.0->ollama) (0.14.0)\n",
      "Installing collected packages: ollama\n",
      "Successfully installed ollama-0.3.3\n",
      "\n",
      "\u001b[1m[\u001b[0m\u001b[34;49mnotice\u001b[0m\u001b[1;39;49m]\u001b[0m\u001b[39;49m A new release of pip available: \u001b[0m\u001b[31;49m22.3\u001b[0m\u001b[39;49m -> \u001b[0m\u001b[32;49m24.2\u001b[0m\n",
      "\u001b[1m[\u001b[0m\u001b[34;49mnotice\u001b[0m\u001b[1;39;49m]\u001b[0m\u001b[39;49m To update, run: \u001b[0m\u001b[32;49mpython3 -m pip install --upgrade pip\u001b[0m\n",
      "Note: you may need to restart the kernel to use updated packages.\n"
     ]
    }
   ],
   "source": [
    "pip install ollama"
   ]
  },
  {
   "cell_type": "markdown",
   "id": "6f42dbd286b3f7a6",
   "metadata": {
    "collapsed": false,
    "jupyter": {
     "outputs_hidden": false
    }
   },
   "source": [
    "### Install CLDK\n",
    "CLDK is avaliable at https://github.com/IBM/codellm-devkit. You can install it by running the following command:"
   ]
  },
  {
   "cell_type": "code",
   "execution_count": 4,
   "id": "327e212f20a489d6",
   "metadata": {
    "collapsed": false,
    "jupyter": {
     "outputs_hidden": false
    }
   },
   "outputs": [
    {
     "name": "stdout",
     "output_type": "stream",
     "text": [
      "Collecting git+https://github.com/IBM/codellm-devkit.git\n",
      "  Cloning https://github.com/IBM/codellm-devkit.git to /private/var/folders/sz/wnlcm64x1sv09ygmpgj5zb100000gn/T/pip-req-build-fh7dte63\n",
      "  Running command git clone --filter=blob:none --quiet https://github.com/IBM/codellm-devkit.git /private/var/folders/sz/wnlcm64x1sv09ygmpgj5zb100000gn/T/pip-req-build-fh7dte63\n",
      "  Resolved https://github.com/IBM/codellm-devkit.git to commit 9976831bf9403334c3037d9e40ffe938e3d94df6\n",
      "  Installing build dependencies ... \u001b[?25ldone\n",
      "\u001b[?25h  Getting requirements to build wheel ... \u001b[?25ldone\n",
      "\u001b[?25h  Preparing metadata (pyproject.toml) ... \u001b[?25ldone\n",
      "\u001b[?25hCollecting ipdb<0.14.0,>=0.13.13\n",
      "  Downloading ipdb-0.13.13-py3-none-any.whl (12 kB)\n",
      "Requirement already satisfied: networkx<4.0,>=3.3 in /Library/Frameworks/Python.framework/Versions/3.11/lib/python3.11/site-packages (from cldk==0.2.0) (3.3)\n",
      "Requirement already satisfied: pandas<3.0.0,>=2.2.0 in /Library/Frameworks/Python.framework/Versions/3.11/lib/python3.11/site-packages (from cldk==0.2.0) (2.2.1)\n",
      "Collecting pyarrow==17.0.0\n",
      "  Using cached pyarrow-17.0.0-cp311-cp311-macosx_10_15_x86_64.whl (29.0 MB)\n",
      "Requirement already satisfied: pydantic<3.0.0,>=2.6.1 in /Library/Frameworks/Python.framework/Versions/3.11/lib/python3.11/site-packages (from cldk==0.2.0) (2.6.4)\n",
      "Requirement already satisfied: requests<3.0.0,>=2.31.0 in /Library/Frameworks/Python.framework/Versions/3.11/lib/python3.11/site-packages (from cldk==0.2.0) (2.32.1)\n",
      "Requirement already satisfied: rich==13.7.1 in /Library/Frameworks/Python.framework/Versions/3.11/lib/python3.11/site-packages (from cldk==0.2.0) (13.7.1)\n",
      "Collecting tree-sitter==0.23.0\n",
      "  Downloading tree_sitter-0.23.0-cp311-cp311-macosx_10_9_x86_64.whl (136 kB)\n",
      "\u001b[2K     \u001b[90m━━━━━━━━━━━━━━━━━━━━━━━━━━━━━━━━━━━━━━━\u001b[0m \u001b[32m136.5/136.5 kB\u001b[0m \u001b[31m2.3 MB/s\u001b[0m eta \u001b[36m0:00:00\u001b[0m00:01\u001b[0m\n",
      "\u001b[?25hCollecting tree-sitter-c==0.23.1\n",
      "  Downloading tree_sitter_c-0.23.1-cp39-abi3-macosx_10_9_x86_64.whl (80 kB)\n",
      "\u001b[2K     \u001b[90m━━━━━━━━━━━━━━━━━━━━━━━━━━━━━━━━━━━━━━━━\u001b[0m \u001b[32m80.8/80.8 kB\u001b[0m \u001b[31m2.4 MB/s\u001b[0m eta \u001b[36m0:00:00\u001b[0m\n",
      "\u001b[?25hCollecting tree-sitter-go==0.23.1\n",
      "  Downloading tree_sitter_go-0.23.1-cp39-abi3-macosx_10_9_x86_64.whl (45 kB)\n",
      "\u001b[2K     \u001b[90m━━━━━━━━━━━━━━━━━━━━━━━━━━━━━━━━━━━━━━━━\u001b[0m \u001b[32m45.3/45.3 kB\u001b[0m \u001b[31m1.4 MB/s\u001b[0m eta \u001b[36m0:00:00\u001b[0m\n",
      "\u001b[?25hCollecting tree-sitter-java==0.23.2\n",
      "  Downloading tree_sitter_java-0.23.2-cp38-abi3-macosx_10_9_x86_64.whl (59 kB)\n",
      "\u001b[2K     \u001b[90m━━━━━━━━━━━━━━━━━━━━━━━━━━━━━━━━━━━━━━━━\u001b[0m \u001b[32m59.4/59.4 kB\u001b[0m \u001b[31m1.8 MB/s\u001b[0m eta \u001b[36m0:00:00\u001b[0m\n",
      "\u001b[?25hCollecting tree-sitter-javascript==0.23.0\n",
      "  Downloading tree_sitter_javascript-0.23.0-cp38-abi3-macosx_10_9_x86_64.whl (57 kB)\n",
      "\u001b[2K     \u001b[90m━━━━━━━━━━━━━━━━━━━━━━━━━━━━━━━━━━━━━━━━\u001b[0m \u001b[32m57.0/57.0 kB\u001b[0m \u001b[31m1.6 MB/s\u001b[0m eta \u001b[36m0:00:00\u001b[0m\n",
      "\u001b[?25hRequirement already satisfied: tree-sitter-languages<2.0.0,>=1.10.2 in /Library/Frameworks/Python.framework/Versions/3.11/lib/python3.11/site-packages (from cldk==0.2.0) (1.10.2)\n",
      "Collecting tree-sitter-python==0.23.2\n",
      "  Downloading tree_sitter_python-0.23.2-cp39-abi3-macosx_10_9_x86_64.whl (73 kB)\n",
      "\u001b[2K     \u001b[90m━━━━━━━━━━━━━━━━━━━━━━━━━━━━━━━━━━━━━━━━\u001b[0m \u001b[32m73.8/73.8 kB\u001b[0m \u001b[31m2.3 MB/s\u001b[0m eta \u001b[36m0:00:00\u001b[0m\n",
      "\u001b[?25hCollecting wget==3.2\n",
      "  Using cached wget-3.2.zip (10 kB)\n",
      "  Preparing metadata (setup.py) ... \u001b[?25ldone\n",
      "\u001b[?25hRequirement already satisfied: numpy>=1.16.6 in /Library/Frameworks/Python.framework/Versions/3.11/lib/python3.11/site-packages (from pyarrow==17.0.0->cldk==0.2.0) (1.26.4)\n",
      "Requirement already satisfied: markdown-it-py>=2.2.0 in /Library/Frameworks/Python.framework/Versions/3.11/lib/python3.11/site-packages (from rich==13.7.1->cldk==0.2.0) (3.0.0)\n",
      "Requirement already satisfied: pygments<3.0.0,>=2.13.0 in /Library/Frameworks/Python.framework/Versions/3.11/lib/python3.11/site-packages (from rich==13.7.1->cldk==0.2.0) (2.18.0)\n",
      "Requirement already satisfied: ipython>=7.31.1 in /Library/Frameworks/Python.framework/Versions/3.11/lib/python3.11/site-packages (from ipdb<0.14.0,>=0.13.13->cldk==0.2.0) (8.27.0)\n",
      "Requirement already satisfied: decorator in /Library/Frameworks/Python.framework/Versions/3.11/lib/python3.11/site-packages (from ipdb<0.14.0,>=0.13.13->cldk==0.2.0) (5.1.1)\n",
      "Requirement already satisfied: python-dateutil>=2.8.2 in /Library/Frameworks/Python.framework/Versions/3.11/lib/python3.11/site-packages (from pandas<3.0.0,>=2.2.0->cldk==0.2.0) (2.9.0.post0)\n",
      "Requirement already satisfied: pytz>=2020.1 in /Library/Frameworks/Python.framework/Versions/3.11/lib/python3.11/site-packages (from pandas<3.0.0,>=2.2.0->cldk==0.2.0) (2024.1)\n",
      "Requirement already satisfied: tzdata>=2022.7 in /Library/Frameworks/Python.framework/Versions/3.11/lib/python3.11/site-packages (from pandas<3.0.0,>=2.2.0->cldk==0.2.0) (2024.1)\n",
      "Requirement already satisfied: annotated-types>=0.4.0 in /Library/Frameworks/Python.framework/Versions/3.11/lib/python3.11/site-packages (from pydantic<3.0.0,>=2.6.1->cldk==0.2.0) (0.6.0)\n",
      "Requirement already satisfied: pydantic-core==2.16.3 in /Library/Frameworks/Python.framework/Versions/3.11/lib/python3.11/site-packages (from pydantic<3.0.0,>=2.6.1->cldk==0.2.0) (2.16.3)\n",
      "Requirement already satisfied: typing-extensions>=4.6.1 in /Library/Frameworks/Python.framework/Versions/3.11/lib/python3.11/site-packages (from pydantic<3.0.0,>=2.6.1->cldk==0.2.0) (4.11.0)\n",
      "Requirement already satisfied: charset-normalizer<4,>=2 in /Library/Frameworks/Python.framework/Versions/3.11/lib/python3.11/site-packages (from requests<3.0.0,>=2.31.0->cldk==0.2.0) (3.3.2)\n",
      "Requirement already satisfied: idna<4,>=2.5 in /Library/Frameworks/Python.framework/Versions/3.11/lib/python3.11/site-packages (from requests<3.0.0,>=2.31.0->cldk==0.2.0) (3.7)\n",
      "Requirement already satisfied: urllib3<3,>=1.21.1 in /Library/Frameworks/Python.framework/Versions/3.11/lib/python3.11/site-packages (from requests<3.0.0,>=2.31.0->cldk==0.2.0) (2.2.1)\n",
      "Requirement already satisfied: certifi>=2017.4.17 in /Library/Frameworks/Python.framework/Versions/3.11/lib/python3.11/site-packages (from requests<3.0.0,>=2.31.0->cldk==0.2.0) (2024.2.2)\n",
      "Requirement already satisfied: jedi>=0.16 in /Library/Frameworks/Python.framework/Versions/3.11/lib/python3.11/site-packages (from ipython>=7.31.1->ipdb<0.14.0,>=0.13.13->cldk==0.2.0) (0.19.1)\n",
      "Requirement already satisfied: matplotlib-inline in /Library/Frameworks/Python.framework/Versions/3.11/lib/python3.11/site-packages (from ipython>=7.31.1->ipdb<0.14.0,>=0.13.13->cldk==0.2.0) (0.1.7)\n",
      "Requirement already satisfied: prompt-toolkit<3.1.0,>=3.0.41 in /Library/Frameworks/Python.framework/Versions/3.11/lib/python3.11/site-packages (from ipython>=7.31.1->ipdb<0.14.0,>=0.13.13->cldk==0.2.0) (3.0.47)\n",
      "Requirement already satisfied: stack-data in /Library/Frameworks/Python.framework/Versions/3.11/lib/python3.11/site-packages (from ipython>=7.31.1->ipdb<0.14.0,>=0.13.13->cldk==0.2.0) (0.6.3)\n",
      "Requirement already satisfied: traitlets>=5.13.0 in /Library/Frameworks/Python.framework/Versions/3.11/lib/python3.11/site-packages (from ipython>=7.31.1->ipdb<0.14.0,>=0.13.13->cldk==0.2.0) (5.14.3)\n",
      "Requirement already satisfied: pexpect>4.3 in /Library/Frameworks/Python.framework/Versions/3.11/lib/python3.11/site-packages (from ipython>=7.31.1->ipdb<0.14.0,>=0.13.13->cldk==0.2.0) (4.9.0)\n",
      "Requirement already satisfied: mdurl~=0.1 in /Library/Frameworks/Python.framework/Versions/3.11/lib/python3.11/site-packages (from markdown-it-py>=2.2.0->rich==13.7.1->cldk==0.2.0) (0.1.2)\n",
      "Requirement already satisfied: six>=1.5 in /Library/Frameworks/Python.framework/Versions/3.11/lib/python3.11/site-packages (from python-dateutil>=2.8.2->pandas<3.0.0,>=2.2.0->cldk==0.2.0) (1.16.0)\n",
      "Requirement already satisfied: parso<0.9.0,>=0.8.3 in /Library/Frameworks/Python.framework/Versions/3.11/lib/python3.11/site-packages (from jedi>=0.16->ipython>=7.31.1->ipdb<0.14.0,>=0.13.13->cldk==0.2.0) (0.8.4)\n",
      "Requirement already satisfied: ptyprocess>=0.5 in /Library/Frameworks/Python.framework/Versions/3.11/lib/python3.11/site-packages (from pexpect>4.3->ipython>=7.31.1->ipdb<0.14.0,>=0.13.13->cldk==0.2.0) (0.7.0)\n",
      "Requirement already satisfied: wcwidth in /Library/Frameworks/Python.framework/Versions/3.11/lib/python3.11/site-packages (from prompt-toolkit<3.1.0,>=3.0.41->ipython>=7.31.1->ipdb<0.14.0,>=0.13.13->cldk==0.2.0) (0.2.13)\n",
      "Requirement already satisfied: executing>=1.2.0 in /Library/Frameworks/Python.framework/Versions/3.11/lib/python3.11/site-packages (from stack-data->ipython>=7.31.1->ipdb<0.14.0,>=0.13.13->cldk==0.2.0) (2.1.0)\n",
      "Requirement already satisfied: asttokens>=2.1.0 in /Library/Frameworks/Python.framework/Versions/3.11/lib/python3.11/site-packages (from stack-data->ipython>=7.31.1->ipdb<0.14.0,>=0.13.13->cldk==0.2.0) (2.4.1)\n",
      "Requirement already satisfied: pure-eval in /Library/Frameworks/Python.framework/Versions/3.11/lib/python3.11/site-packages (from stack-data->ipython>=7.31.1->ipdb<0.14.0,>=0.13.13->cldk==0.2.0) (0.2.3)\n",
      "Building wheels for collected packages: cldk\n",
      "  Building wheel for cldk (pyproject.toml) ... \u001b[?25ldone\n",
      "\u001b[?25h  Created wheel for cldk: filename=cldk-0.2.0-py3-none-any.whl size=95449 sha256=ce95ae20e8763c3d1789f90019c1c7b9713f17d454bc3b19c282656f793cde01\n",
      "  Stored in directory: /private/var/folders/sz/wnlcm64x1sv09ygmpgj5zb100000gn/T/pip-ephem-wheel-cache-70gs3nv6/wheels/76/0e/3a/46ce0a5841fb5d524e1b6a228e7abc08e25150f0386ea1e964\n",
      "Successfully built cldk\n",
      "Installing collected packages: wget, tree-sitter-python, tree-sitter-javascript, tree-sitter-java, tree-sitter-go, tree-sitter-c, tree-sitter, pyarrow, ipdb, cldk\n",
      "\u001b[33m  DEPRECATION: wget is being installed using the legacy 'setup.py install' method, because it does not have a 'pyproject.toml' and the 'wheel' package is not installed. pip 23.1 will enforce this behaviour change. A possible replacement is to enable the '--use-pep517' option. Discussion can be found at https://github.com/pypa/pip/issues/8559\u001b[0m\u001b[33m\n",
      "\u001b[0m  Running setup.py install for wget ... \u001b[?25ldone\n",
      "\u001b[?25h  Attempting uninstall: tree-sitter\n",
      "    Found existing installation: tree-sitter 0.20.4\n",
      "    Uninstalling tree-sitter-0.20.4:\n",
      "      Successfully uninstalled tree-sitter-0.20.4\n",
      "  Attempting uninstall: pyarrow\n",
      "    Found existing installation: pyarrow 15.0.2\n",
      "    Uninstalling pyarrow-15.0.2:\n",
      "      Successfully uninstalled pyarrow-15.0.2\n",
      "\u001b[31mERROR: pip's dependency resolver does not currently take into account all the packages that are installed. This behaviour is the source of the following dependency conflicts.\n",
      "northstar 0.1.0 requires pyarrow<16.0.0,>=15.0.0, but you have pyarrow 17.0.0 which is incompatible.\n",
      "northstar 0.1.0 requires tree-sitter<0.21.0,>=0.20.4, but you have tree-sitter 0.23.0 which is incompatible.\u001b[0m\u001b[31m\n",
      "\u001b[0mSuccessfully installed cldk-0.2.0 ipdb-0.13.13 pyarrow-17.0.0 tree-sitter-0.23.0 tree-sitter-c-0.23.1 tree-sitter-go-0.23.1 tree-sitter-java-0.23.2 tree-sitter-javascript-0.23.0 tree-sitter-python-0.23.2 wget-3.2\n",
      "\n",
      "\u001b[1m[\u001b[0m\u001b[34;49mnotice\u001b[0m\u001b[1;39;49m]\u001b[0m\u001b[39;49m A new release of pip available: \u001b[0m\u001b[31;49m22.3\u001b[0m\u001b[39;49m -> \u001b[0m\u001b[32;49m24.2\u001b[0m\n",
      "\u001b[1m[\u001b[0m\u001b[34;49mnotice\u001b[0m\u001b[1;39;49m]\u001b[0m\u001b[39;49m To update, run: \u001b[0m\u001b[32;49mpython3 -m pip install --upgrade pip\u001b[0m\n",
      "Note: you may need to restart the kernel to use updated packages.\n"
     ]
    }
   ],
   "source": [
    "pip install git+https://github.com/IBM/codellm-devkit.git@072e978fc3d821ca0493ff555df542515334308a"
   ]
  },
  {
   "cell_type": "markdown",
   "id": "dd8ec5b9c837898f",
   "metadata": {
    "collapsed": false,
    "jupyter": {
     "outputs_hidden": false
    }
   },
   "source": [
    "### Step 1: Get the sample Java application\n",
    "For this tutorial, we will use [Apache Commons CLI](https://github.com/apache/commons-cli) as the sample Java application. You can download the source code to a temporary directory by running the following command:"
   ]
  },
  {
   "cell_type": "code",
   "execution_count": 2,
   "id": "c196e58b3ce90c34",
   "metadata": {
    "collapsed": false,
    "jupyter": {
     "outputs_hidden": false
    }
   },
   "outputs": [
    {
     "name": "stderr",
     "output_type": "stream",
     "text": [
      "--2024-10-17 10:02:23--  https://github.com/apache/commons-cli/archive/refs/tags/rel/commons-cli-1.7.0.zip\n",
      "Resolving github.com (github.com)... 140.82.112.3\n",
      "Connecting to github.com (github.com)|140.82.112.3|:443... connected.\n",
      "HTTP request sent, awaiting response... 302 Found\n",
      "Location: https://codeload.github.com/apache/commons-cli/zip/refs/tags/rel/commons-cli-1.7.0 [following]\n",
      "--2024-10-17 10:02:23--  https://codeload.github.com/apache/commons-cli/zip/refs/tags/rel/commons-cli-1.7.0\n",
      "Resolving codeload.github.com (codeload.github.com)... 140.82.114.10\n",
      "Connecting to codeload.github.com (codeload.github.com)|140.82.114.10|:443... connected.\n",
      "HTTP request sent, awaiting response... 200 OK\n",
      "Length: unspecified [application/zip]\n",
      "Saving to: ‘/tmp/commons-cli-1.7.0.zip’\n",
      "\n",
      "     0K .......... .......... .......... .......... .......... 1.59M\n",
      "    50K .......... .......... .......... .......... .......... 3.17M\n",
      "   100K .......... .......... .......... .......... .......... 10.1M\n",
      "   150K .......... .......... .......... .......... .......... 4.86M\n",
      "   200K .......... .......... .......... .......... .......... 8.18M\n",
      "   250K .......... .......... ....                             12.7M=0.07s\n",
      "\n",
      "2024-10-17 10:02:25 (3.90 MB/s) - ‘/tmp/commons-cli-1.7.0.zip’ saved [280757]\n",
      "\n"
     ]
    },
    {
     "name": "stdout",
     "output_type": "stream",
     "text": [
      "Archive:  /tmp/commons-cli-1.7.0.zip\n",
      "caed6714a73ce366aebccebf4a21e287d6d34ae0\n",
      "  inflating: /tmp/commons-cli-rel-commons-cli-1.7.0/.asf.yaml  \n",
      "  inflating: /tmp/commons-cli-rel-commons-cli-1.7.0/.github/GH-ROBOTS.txt  \n",
      "  inflating: /tmp/commons-cli-rel-commons-cli-1.7.0/.github/dependabot.yml  \n",
      "  inflating: /tmp/commons-cli-rel-commons-cli-1.7.0/.github/workflows/codeql-analysis.yml  \n",
      "  inflating: /tmp/commons-cli-rel-commons-cli-1.7.0/.github/workflows/coverage.yml  \n",
      "  inflating: /tmp/commons-cli-rel-commons-cli-1.7.0/.github/workflows/maven.yml  \n",
      "  inflating: /tmp/commons-cli-rel-commons-cli-1.7.0/.github/workflows/scorecards-analysis.yml  \n",
      "  inflating: /tmp/commons-cli-rel-commons-cli-1.7.0/.gitignore  \n",
      "  inflating: /tmp/commons-cli-rel-commons-cli-1.7.0/CODE_OF_CONDUCT.md  \n",
      "  inflating: /tmp/commons-cli-rel-commons-cli-1.7.0/CONTRIBUTING.md  \n",
      "  inflating: /tmp/commons-cli-rel-commons-cli-1.7.0/LICENSE.txt  \n",
      "  inflating: /tmp/commons-cli-rel-commons-cli-1.7.0/NOTICE.txt  \n",
      "  inflating: /tmp/commons-cli-rel-commons-cli-1.7.0/README.md  \n",
      "  inflating: /tmp/commons-cli-rel-commons-cli-1.7.0/RELEASE-NOTES.txt  \n",
      "  inflating: /tmp/commons-cli-rel-commons-cli-1.7.0/SECURITY.md  \n",
      "  inflating: /tmp/commons-cli-rel-commons-cli-1.7.0/pom.xml  \n",
      "  inflating: /tmp/commons-cli-rel-commons-cli-1.7.0/src/assembly/bin.xml  \n",
      "  inflating: /tmp/commons-cli-rel-commons-cli-1.7.0/src/assembly/src.xml  \n",
      "  inflating: /tmp/commons-cli-rel-commons-cli-1.7.0/src/changes/changes.xml  \n",
      "  inflating: /tmp/commons-cli-rel-commons-cli-1.7.0/src/changes/release-notes.vm  \n",
      "  inflating: /tmp/commons-cli-rel-commons-cli-1.7.0/src/conf/checkstyle-suppressions.xml  \n",
      "  inflating: /tmp/commons-cli-rel-commons-cli-1.7.0/src/conf/checkstyle.xml  \n",
      "  inflating: /tmp/commons-cli-rel-commons-cli-1.7.0/src/conf/spotbugs-exclude-filter.xml  \n",
      "  inflating: /tmp/commons-cli-rel-commons-cli-1.7.0/src/main/java/org/apache/commons/cli/AlreadySelectedException.java  \n",
      "  inflating: /tmp/commons-cli-rel-commons-cli-1.7.0/src/main/java/org/apache/commons/cli/AmbiguousOptionException.java  \n",
      "  inflating: /tmp/commons-cli-rel-commons-cli-1.7.0/src/main/java/org/apache/commons/cli/BasicParser.java  \n",
      "  inflating: /tmp/commons-cli-rel-commons-cli-1.7.0/src/main/java/org/apache/commons/cli/Char.java  \n",
      "  inflating: /tmp/commons-cli-rel-commons-cli-1.7.0/src/main/java/org/apache/commons/cli/CommandLine.java  \n",
      "  inflating: /tmp/commons-cli-rel-commons-cli-1.7.0/src/main/java/org/apache/commons/cli/CommandLineParser.java  \n",
      "  inflating: /tmp/commons-cli-rel-commons-cli-1.7.0/src/main/java/org/apache/commons/cli/Converter.java  \n",
      "  inflating: /tmp/commons-cli-rel-commons-cli-1.7.0/src/main/java/org/apache/commons/cli/DefaultParser.java  \n",
      "  inflating: /tmp/commons-cli-rel-commons-cli-1.7.0/src/main/java/org/apache/commons/cli/DeprecatedAttributes.java  \n",
      "  inflating: /tmp/commons-cli-rel-commons-cli-1.7.0/src/main/java/org/apache/commons/cli/GnuParser.java  \n",
      "  inflating: /tmp/commons-cli-rel-commons-cli-1.7.0/src/main/java/org/apache/commons/cli/HelpFormatter.java  \n",
      "  inflating: /tmp/commons-cli-rel-commons-cli-1.7.0/src/main/java/org/apache/commons/cli/MissingArgumentException.java  \n",
      "  inflating: /tmp/commons-cli-rel-commons-cli-1.7.0/src/main/java/org/apache/commons/cli/MissingOptionException.java  \n",
      "  inflating: /tmp/commons-cli-rel-commons-cli-1.7.0/src/main/java/org/apache/commons/cli/Option.java  \n",
      "  inflating: /tmp/commons-cli-rel-commons-cli-1.7.0/src/main/java/org/apache/commons/cli/OptionBuilder.java  \n",
      "  inflating: /tmp/commons-cli-rel-commons-cli-1.7.0/src/main/java/org/apache/commons/cli/OptionGroup.java  \n",
      "  inflating: /tmp/commons-cli-rel-commons-cli-1.7.0/src/main/java/org/apache/commons/cli/OptionValidator.java  \n",
      "  inflating: /tmp/commons-cli-rel-commons-cli-1.7.0/src/main/java/org/apache/commons/cli/Options.java  \n",
      "  inflating: /tmp/commons-cli-rel-commons-cli-1.7.0/src/main/java/org/apache/commons/cli/ParseException.java  \n",
      "  inflating: /tmp/commons-cli-rel-commons-cli-1.7.0/src/main/java/org/apache/commons/cli/Parser.java  \n",
      "  inflating: /tmp/commons-cli-rel-commons-cli-1.7.0/src/main/java/org/apache/commons/cli/PatternOptionBuilder.java  \n",
      "  inflating: /tmp/commons-cli-rel-commons-cli-1.7.0/src/main/java/org/apache/commons/cli/PosixParser.java  \n",
      "  inflating: /tmp/commons-cli-rel-commons-cli-1.7.0/src/main/java/org/apache/commons/cli/TypeHandler.java  \n",
      "  inflating: /tmp/commons-cli-rel-commons-cli-1.7.0/src/main/java/org/apache/commons/cli/UnrecognizedOptionException.java  \n",
      "  inflating: /tmp/commons-cli-rel-commons-cli-1.7.0/src/main/java/org/apache/commons/cli/Util.java  \n",
      "  inflating: /tmp/commons-cli-rel-commons-cli-1.7.0/src/main/java/org/apache/commons/cli/overview.html  \n",
      "  inflating: /tmp/commons-cli-rel-commons-cli-1.7.0/src/main/java/org/apache/commons/cli/package-info.java  \n",
      "  inflating: /tmp/commons-cli-rel-commons-cli-1.7.0/src/media/logo.xcf  \n",
      "  inflating: /tmp/commons-cli-rel-commons-cli-1.7.0/src/site/resources/.htaccess  \n",
      "  inflating: /tmp/commons-cli-rel-commons-cli-1.7.0/src/site/resources/download_cli.cgi  \n",
      "  inflating: /tmp/commons-cli-rel-commons-cli-1.7.0/src/site/resources/images/1x1.gif  \n",
      "  inflating: /tmp/commons-cli-rel-commons-cli-1.7.0/src/site/resources/images/logo.png  \n",
      "  inflating: /tmp/commons-cli-rel-commons-cli-1.7.0/src/site/resources/images/options.png  \n",
      "  inflating: /tmp/commons-cli-rel-commons-cli-1.7.0/src/site/resources/images/svg/commandlines.svg  \n",
      "  inflating: /tmp/commons-cli-rel-commons-cli-1.7.0/src/site/resources/images/svg/diagrams-cli2.js  \n",
      "  inflating: /tmp/commons-cli-rel-commons-cli-1.7.0/src/site/resources/images/svg/diagrams.css  \n",
      "  inflating: /tmp/commons-cli-rel-commons-cli-1.7.0/src/site/resources/images/svg/diagrams.js  \n",
      "  inflating: /tmp/commons-cli-rel-commons-cli-1.7.0/src/site/resources/images/svg/options.svg  \n",
      "  inflating: /tmp/commons-cli-rel-commons-cli-1.7.0/src/site/resources/images/svg/util.svg  \n",
      " extracting: /tmp/commons-cli-rel-commons-cli-1.7.0/src/site/resources/profile.jacoco  \n",
      "  inflating: /tmp/commons-cli-rel-commons-cli-1.7.0/src/site/site.xml  \n",
      "  inflating: /tmp/commons-cli-rel-commons-cli-1.7.0/src/site/xdoc/download_cli.xml  \n",
      "  inflating: /tmp/commons-cli-rel-commons-cli-1.7.0/src/site/xdoc/index.xml  \n",
      "  inflating: /tmp/commons-cli-rel-commons-cli-1.7.0/src/site/xdoc/introduction.xml  \n",
      "  inflating: /tmp/commons-cli-rel-commons-cli-1.7.0/src/site/xdoc/issue-tracking.xml  \n",
      "  inflating: /tmp/commons-cli-rel-commons-cli-1.7.0/src/site/xdoc/mail-lists.xml  \n",
      "  inflating: /tmp/commons-cli-rel-commons-cli-1.7.0/src/site/xdoc/properties.xml  \n",
      "  inflating: /tmp/commons-cli-rel-commons-cli-1.7.0/src/site/xdoc/release_1_0.xml  \n",
      "  inflating: /tmp/commons-cli-rel-commons-cli-1.7.0/src/site/xdoc/release_1_2.xml  \n",
      "  inflating: /tmp/commons-cli-rel-commons-cli-1.7.0/src/site/xdoc/release_1_3.xml  \n",
      "  inflating: /tmp/commons-cli-rel-commons-cli-1.7.0/src/site/xdoc/release_1_3_1.xml  \n",
      "  inflating: /tmp/commons-cli-rel-commons-cli-1.7.0/src/site/xdoc/release_1_4.xml  \n",
      "  inflating: /tmp/commons-cli-rel-commons-cli-1.7.0/src/site/xdoc/upgrading-1.0-to-1.1.xml  \n",
      "  inflating: /tmp/commons-cli-rel-commons-cli-1.7.0/src/site/xdoc/usage.xml  \n",
      "  inflating: /tmp/commons-cli-rel-commons-cli-1.7.0/src/test/java/org/apache/commons/cli/AbstractParserTestCase.java  \n",
      "  inflating: /tmp/commons-cli-rel-commons-cli-1.7.0/src/test/java/org/apache/commons/cli/AlreadySelectedExceptionTest.java  \n",
      "  inflating: /tmp/commons-cli-rel-commons-cli-1.7.0/src/test/java/org/apache/commons/cli/ApplicationTest.java  \n",
      "  inflating: /tmp/commons-cli-rel-commons-cli-1.7.0/src/test/java/org/apache/commons/cli/ArgumentIsOptionTest.java  \n",
      "  inflating: /tmp/commons-cli-rel-commons-cli-1.7.0/src/test/java/org/apache/commons/cli/BasicParserTest.java  \n",
      "  inflating: /tmp/commons-cli-rel-commons-cli-1.7.0/src/test/java/org/apache/commons/cli/CommandLineTest.java  \n",
      "  inflating: /tmp/commons-cli-rel-commons-cli-1.7.0/src/test/java/org/apache/commons/cli/ConverterTests.java  \n",
      "  inflating: /tmp/commons-cli-rel-commons-cli-1.7.0/src/test/java/org/apache/commons/cli/DefaultParserTest.java  \n",
      "  inflating: /tmp/commons-cli-rel-commons-cli-1.7.0/src/test/java/org/apache/commons/cli/DeprecatedAttributesTest.java  \n",
      "  inflating: /tmp/commons-cli-rel-commons-cli-1.7.0/src/test/java/org/apache/commons/cli/DisablePartialMatchingTest.java  \n",
      "  inflating: /tmp/commons-cli-rel-commons-cli-1.7.0/src/test/java/org/apache/commons/cli/GnuParserTest.java  \n",
      "  inflating: /tmp/commons-cli-rel-commons-cli-1.7.0/src/test/java/org/apache/commons/cli/HelpFormatterTest.java  \n",
      "  inflating: /tmp/commons-cli-rel-commons-cli-1.7.0/src/test/java/org/apache/commons/cli/OptionBuilderTest.java  \n",
      "  inflating: /tmp/commons-cli-rel-commons-cli-1.7.0/src/test/java/org/apache/commons/cli/OptionGroupTest.java  \n",
      "  inflating: /tmp/commons-cli-rel-commons-cli-1.7.0/src/test/java/org/apache/commons/cli/OptionTest.java  \n",
      "  inflating: /tmp/commons-cli-rel-commons-cli-1.7.0/src/test/java/org/apache/commons/cli/OptionValidatorTest.java  \n",
      "  inflating: /tmp/commons-cli-rel-commons-cli-1.7.0/src/test/java/org/apache/commons/cli/OptionsTest.java  \n",
      "  inflating: /tmp/commons-cli-rel-commons-cli-1.7.0/src/test/java/org/apache/commons/cli/ParseExceptionTest.java  \n",
      "  inflating: /tmp/commons-cli-rel-commons-cli-1.7.0/src/test/java/org/apache/commons/cli/PatternOptionBuilderTest.java  \n",
      "  inflating: /tmp/commons-cli-rel-commons-cli-1.7.0/src/test/java/org/apache/commons/cli/PosixParserTest.java  \n",
      "  inflating: /tmp/commons-cli-rel-commons-cli-1.7.0/src/test/java/org/apache/commons/cli/SolrCliTest.java  \n",
      "  inflating: /tmp/commons-cli-rel-commons-cli-1.7.0/src/test/java/org/apache/commons/cli/SolrCreateToolTest.java  \n",
      "  inflating: /tmp/commons-cli-rel-commons-cli-1.7.0/src/test/java/org/apache/commons/cli/TypeHandlerTest.java  \n",
      "  inflating: /tmp/commons-cli-rel-commons-cli-1.7.0/src/test/java/org/apache/commons/cli/UnrecognizedOptionExceptionTest.java  \n",
      "  inflating: /tmp/commons-cli-rel-commons-cli-1.7.0/src/test/java/org/apache/commons/cli/UtilTest.java  \n",
      "  inflating: /tmp/commons-cli-rel-commons-cli-1.7.0/src/test/java/org/apache/commons/cli/ValueTest.java  \n",
      "  inflating: /tmp/commons-cli-rel-commons-cli-1.7.0/src/test/java/org/apache/commons/cli/ValuesTest.java  \n",
      "  inflating: /tmp/commons-cli-rel-commons-cli-1.7.0/src/test/java/org/apache/commons/cli/bug/BugCLI133Test.java  \n",
      "  inflating: /tmp/commons-cli-rel-commons-cli-1.7.0/src/test/java/org/apache/commons/cli/bug/BugCLI13Test.java  \n",
      "  inflating: /tmp/commons-cli-rel-commons-cli-1.7.0/src/test/java/org/apache/commons/cli/bug/BugCLI148Test.java  \n",
      "  inflating: /tmp/commons-cli-rel-commons-cli-1.7.0/src/test/java/org/apache/commons/cli/bug/BugCLI162Test.java  \n",
      "  inflating: /tmp/commons-cli-rel-commons-cli-1.7.0/src/test/java/org/apache/commons/cli/bug/BugCLI18Test.java  \n",
      "  inflating: /tmp/commons-cli-rel-commons-cli-1.7.0/src/test/java/org/apache/commons/cli/bug/BugCLI252Test.java  \n",
      "  inflating: /tmp/commons-cli-rel-commons-cli-1.7.0/src/test/java/org/apache/commons/cli/bug/BugCLI265Test.java  \n",
      "  inflating: /tmp/commons-cli-rel-commons-cli-1.7.0/src/test/java/org/apache/commons/cli/bug/BugCLI266Test.java  \n",
      "  inflating: /tmp/commons-cli-rel-commons-cli-1.7.0/src/test/java/org/apache/commons/cli/bug/BugCLI312Test.java  \n",
      "  inflating: /tmp/commons-cli-rel-commons-cli-1.7.0/src/test/java/org/apache/commons/cli/bug/BugCLI325Test.java  \n",
      "  inflating: /tmp/commons-cli-rel-commons-cli-1.7.0/src/test/java/org/apache/commons/cli/bug/BugCLI71Test.java  \n",
      "  inflating: /tmp/commons-cli-rel-commons-cli-1.7.0/src/test/java/org/apache/commons/cli/bug/BugsTest.java  \n",
      "  inflating: /tmp/commons-cli-rel-commons-cli-1.7.0/src/test/resources/org/apache/commons/cli/existing-readable.file  \n"
     ]
    }
   ],
   "source": [
    "%%bash\n",
    "wget https://github.com/apache/commons-cli/archive/refs/tags/rel/commons-cli-1.7.0.zip -O /tmp/commons-cli-1.7.0.zip && unzip -o /tmp/commons-cli-1.7.0.zip -d /tmp"
   ]
  },
  {
   "cell_type": "markdown",
   "id": "44e875e7ce6db504",
   "metadata": {
    "collapsed": false,
    "jupyter": {
     "outputs_hidden": false
    }
   },
   "source": [
    "The project will now be extracted to `/tmp/commons-cli-rel-commons-cli-1.7.0`.\n",
    "<!-- We'll remove these files later, so don't worry about the location. -->"
   ]
  },
  {
   "cell_type": "markdown",
   "id": "6ad70b81e8957fc0",
   "metadata": {
    "collapsed": false,
    "jupyter": {
     "outputs_hidden": false
    }
   },
   "source": [
    "## Generate code summary\n",
    "\n",
    "Code summarization or code explanation is the task of converting code written in a programming language to natural language. It has several benefits, such as understanding code without looking at its intrinsic details, documenting code for better maintenance, etc. To perform code summarization, one needs to understand the basic details of code implementation, and use that knowledge to generate the summary using various AI-based approaches. In this tutorial, we will use LLMs, specifically Granite code 8b-instruct. We will show how a developer can easily use CLDK to analyze code by calling various APIs without having to implement such analyses."
   ]
  },
  {
   "cell_type": "markdown",
   "id": "15555404790e1411",
   "metadata": {
    "collapsed": false,
    "jupyter": {
     "outputs_hidden": false
    }
   },
   "source": [
    "Step 1: Add the neccessary imports"
   ]
  },
  {
   "cell_type": "code",
   "execution_count": 18,
   "id": "8e8e5de7e5c68020",
   "metadata": {
    "collapsed": false,
    "is_executing": true,
    "jupyter": {
     "outputs_hidden": false
    }
   },
   "outputs": [],
   "source": [
    "import ollama\n",
    "from cldk import CLDK\n",
    "from cldk.analysis import AnalysisLevel"
   ]
  },
  {
   "cell_type": "markdown",
   "id": "ffc4ee9a6d27acc2",
   "metadata": {
    "collapsed": false,
    "jupyter": {
     "outputs_hidden": false
    }
   },
   "source": [
    "Step 2: Define a function for creating the LLM prompt, which instructs the LLM to summarize a Java method and includes relevant code for the task."
   ]
  },
  {
   "cell_type": "code",
   "execution_count": 6,
   "id": "9e23523c71636727",
   "metadata": {
    "collapsed": false,
    "jupyter": {
     "outputs_hidden": false
    }
   },
   "outputs": [],
   "source": [
    "def format_inst(code, focal_method, focal_class, language):\n",
    "    \"\"\"\n",
    "    Format the instruction for the given focal method and class.\n",
    "    \"\"\"\n",
    "    inst = f\"Question: Can you write a brief summary for the method `{focal_method}` in the class `{focal_class}` below?\\n\"\n",
    "\n",
    "    inst += \"\\n\"\n",
    "    inst += f\"```{language}\\n\"\n",
    "    inst += code\n",
    "    inst += \"```\" if code.endswith(\"\\n\") else \"\\n```\"\n",
    "    inst += \"\\n\"\n",
    "    return inst"
   ]
  },
  {
   "cell_type": "markdown",
   "id": "a4e9cb4e4f00b25c",
   "metadata": {
    "collapsed": false,
    "jupyter": {
     "outputs_hidden": false
    }
   },
   "source": []
  },
  {
   "cell_type": "markdown",
   "id": "dd8439be222b5caa",
   "metadata": {
    "collapsed": false,
    "jupyter": {
     "outputs_hidden": false
    }
   },
   "source": [
    "Step 3: Define a function to call the LLM (in this case, Granite code 8b-instruct) using Ollama."
   ]
  },
  {
   "cell_type": "code",
   "execution_count": 7,
   "id": "62807e0cbf985ae6",
   "metadata": {
    "collapsed": false,
    "jupyter": {
     "outputs_hidden": false
    }
   },
   "outputs": [],
   "source": [
    "def prompt_ollama(message: str, model_id: str = \"granite-code:8b-instruct\") -> str:\n",
    "    \"\"\"Prompt local model on Ollama\"\"\"\n",
    "    response_object = ollama.generate(model=model_id, prompt=message, options={\"temperature\":0.2})\n",
    "    return response_object[\"response\"]"
   ]
  },
  {
   "cell_type": "markdown",
   "id": "1022e86e38e12767",
   "metadata": {
    "collapsed": false,
    "jupyter": {
     "outputs_hidden": false
    }
   },
   "source": [
    "Step 4: Create an instance of CLDK and provide the programming language of the source code."
   ]
  },
  {
   "cell_type": "code",
   "execution_count": 19,
   "id": "a2c8bbe4e3244f60",
   "metadata": {
    "collapsed": false,
    "jupyter": {
     "outputs_hidden": false
    }
   },
   "outputs": [],
   "source": [
    "# Create an instance of CLDK for Java analysis\n",
    "cldk = CLDK(language=\"java\")"
   ]
  },
  {
   "cell_type": "markdown",
   "id": "23dd4a6e5d5cb0c5",
   "metadata": {
    "collapsed": false,
    "jupyter": {
     "outputs_hidden": false
    }
   },
   "source": [
    "Step 5: Select the analysis engine and analysis level. CLDK uses different analysis engines---[CodeAnalyzer](https://github.com/IBM/codenet-minerva-code-analyzer) (built over [WALA](https://github.com/wala/WALA) and [JavaParser](https://github.com/javaparser/javaparser)), [Treesitter](https://tree-sitter.github.io/tree-sitter/), and [CodeQL](https://codeql.github.com/) (future)---with CodeAnalyzer being the default analysis engine. CLDK supports different analysis levels: (1) symbol table, (2) call graph, (3) program dependency graph, and (4) system dependency graph. The analysis level can be selected using the `AnalysisLevel` enumerated type. For this example, we select the symbol-table analysis level, with CodeAnalyzer as the default analysis engine."
   ]
  },
  {
   "cell_type": "code",
   "execution_count": 22,
   "id": "fdd09f5e77d4a68a",
   "metadata": {
    "collapsed": false,
    "jupyter": {
     "outputs_hidden": false
    }
   },
   "outputs": [],
   "source": [
    "# Create an analysis object for the Java application\n",
    "analysis = cldk.analysis(project_path=\"/tmp/commons-cli-rel-commons-cli-1.7.0\", analysis_level=AnalysisLevel.symbol_table, analysis_json_path=\"./output\")"
   ]
  },
  {
   "cell_type": "code",
   "execution_count": null,
   "id": "739801f8-ed5e-4504-ae80-322080680c38",
   "metadata": {},
   "outputs": [],
   "source": []
  },
  {
   "cell_type": "code",
   "execution_count": null,
   "id": "815565d7-7e76-4b69-981f-9442d161d5e0",
   "metadata": {},
   "outputs": [],
   "source": []
  },
  {
   "cell_type": "markdown",
   "id": "f148325e92781e13",
   "metadata": {
    "collapsed": false,
    "jupyter": {
     "outputs_hidden": false
    }
   },
   "source": [
    "Step 6: Iterate over all the class files and create the prompt. In this case, we want to provide a sanitized Java class in the prompt, containing only the relevant information for summarizing the target method. To illustrate, consider the floowing class:\n",
    "\n",
    "```java\n",
    "package com.ibm.org;\n",
    "import A.B.C.D;\n",
    "...\n",
    "public class Foo {\n",
    " // code comment\n",
    " public void bar(){ \n",
    "    int a;\n",
    "    a = baz();\n",
    "    // do something\n",
    "    }\n",
    " private int baz()\n",
    " {\n",
    "    // do something\n",
    " }\n",
    " public String dummy (String a)\n",
    " {\n",
    "    // do somthing\n",
    " }   \n",
    "```\n",
    "Let's say we want to generate a summary for method `bar`. To understand what it does, we add the callees of this method in the prompt, which in this case includes `baz`. We remove the other methods, imports, comments, etc. All of this can be achieved with a single call to CLDK's `sanitize_focal_class` API. In this process, we also use Treesitter to analyze the code.  After creating the sanitized code, we call the previously defined `format_inst` method to create the LLM prompt and pass the prompt to `prompt_ollama` to generate the method summary."
   ]
  },
  {
   "cell_type": "code",
   "execution_count": 23,
   "id": "462ef7dceae367ad",
   "metadata": {
    "collapsed": false,
    "jupyter": {
     "outputs_hidden": false
    }
   },
   "outputs": [
    {
     "ename": "AttributeError",
     "evalue": "'NoneType' object has no attribute 'values'",
     "output_type": "error",
     "traceback": [
      "\u001b[0;31m---------------------------------------------------------------------------\u001b[0m",
      "\u001b[0;31mAttributeError\u001b[0m                            Traceback (most recent call last)",
      "Cell \u001b[0;32mIn[23], line 6\u001b[0m\n\u001b[1;32m      3\u001b[0m target_method \u001b[38;5;241m=\u001b[39m \u001b[38;5;124m\"\u001b[39m\u001b[38;5;124mflatten(Options, String[], boolean)\u001b[39m\u001b[38;5;124m\"\u001b[39m\n\u001b[1;32m      5\u001b[0m \u001b[38;5;66;03m# Iterate over all classes in the application\u001b[39;00m\n\u001b[0;32m----> 6\u001b[0m \u001b[38;5;28;01mfor\u001b[39;00m class_name \u001b[38;5;129;01min\u001b[39;00m \u001b[43manalysis\u001b[49m\u001b[38;5;241;43m.\u001b[39;49m\u001b[43mget_classes\u001b[49m\u001b[43m(\u001b[49m\u001b[43m)\u001b[49m:\n\u001b[1;32m      7\u001b[0m     \u001b[38;5;28;01mif\u001b[39;00m class_name \u001b[38;5;241m==\u001b[39m target_class:\n\u001b[1;32m      8\u001b[0m         class_file_path \u001b[38;5;241m=\u001b[39m analysis\u001b[38;5;241m.\u001b[39mget_java_file(qualified_class_name\u001b[38;5;241m=\u001b[39mclass_name)\n",
      "File \u001b[0;32m/Library/Frameworks/Python.framework/Versions/3.11/lib/python3.11/site-packages/cldk/analysis/java/java.py:260\u001b[0m, in \u001b[0;36mJavaAnalysis.get_classes\u001b[0;34m(self)\u001b[0m\n\u001b[1;32m    258\u001b[0m \u001b[38;5;28;01mif\u001b[39;00m \u001b[38;5;28mself\u001b[39m\u001b[38;5;241m.\u001b[39manalysis_backend \u001b[38;5;129;01min\u001b[39;00m [AnalysisEngine\u001b[38;5;241m.\u001b[39mCODEQL, AnalysisEngine\u001b[38;5;241m.\u001b[39mTREESITTER]:\n\u001b[1;32m    259\u001b[0m     \u001b[38;5;28;01mraise\u001b[39;00m \u001b[38;5;167;01mNotImplementedError\u001b[39;00m(\u001b[38;5;124mf\u001b[39m\u001b[38;5;124m\"\u001b[39m\u001b[38;5;124mSupport for this functionality has not been implemented yet.\u001b[39m\u001b[38;5;124m\"\u001b[39m)\n\u001b[0;32m--> 260\u001b[0m \u001b[38;5;28;01mreturn\u001b[39;00m \u001b[38;5;28;43mself\u001b[39;49m\u001b[38;5;241;43m.\u001b[39;49m\u001b[43mbackend\u001b[49m\u001b[38;5;241;43m.\u001b[39;49m\u001b[43mget_all_classes\u001b[49m\u001b[43m(\u001b[49m\u001b[43m)\u001b[49m\n",
      "File \u001b[0;32m/Library/Frameworks/Python.framework/Versions/3.11/lib/python3.11/site-packages/cldk/analysis/java/codeanalyzer/codeanalyzer.py:521\u001b[0m, in \u001b[0;36mJCodeanalyzer.get_all_classes\u001b[0;34m(self)\u001b[0m\n\u001b[1;32m    519\u001b[0m class_dict \u001b[38;5;241m=\u001b[39m {}\n\u001b[1;32m    520\u001b[0m symtab \u001b[38;5;241m=\u001b[39m \u001b[38;5;28mself\u001b[39m\u001b[38;5;241m.\u001b[39mget_symbol_table()\n\u001b[0;32m--> 521\u001b[0m \u001b[38;5;28;01mfor\u001b[39;00m v \u001b[38;5;129;01min\u001b[39;00m \u001b[43msymtab\u001b[49m\u001b[38;5;241;43m.\u001b[39;49m\u001b[43mvalues\u001b[49m():\n\u001b[1;32m    522\u001b[0m     class_dict\u001b[38;5;241m.\u001b[39mupdate(v\u001b[38;5;241m.\u001b[39mtype_declarations)\n\u001b[1;32m    523\u001b[0m \u001b[38;5;28;01mreturn\u001b[39;00m class_dict\n",
      "\u001b[0;31mAttributeError\u001b[0m: 'NoneType' object has no attribute 'values'"
     ]
    }
   ],
   "source": [
    "# For simplicity, we run the code summarization on a single class and method (this filter can be removed to run this code over the entire application)\n",
    "target_class = \"org.apache.commons.cli.GnuParser\"\n",
    "target_method = \"flatten(Options, String[], boolean)\"\n",
    "\n",
    "# Iterate over all classes in the application\n",
    "for class_name in analysis.get_classes():\n",
    "    if class_name == target_class:\n",
    "        class_file_path = analysis.get_java_file(qualified_class_name=class_name)\n",
    "\n",
    "        # Read code for the class\n",
    "        with open(class_file_path, \"r\") as f:\n",
    "            code_body = f.read()\n",
    "\n",
    "        # Initialize treesitter utils for the class file content\n",
    "        tree_sitter_utils = cldk.tree_sitter_utils(source_code=code_body)\n",
    "                \n",
    "        # Iterate over all methods in class\n",
    "        for method in analysis.get_methods_in_class(qualified_class_name=class_name):\n",
    "            if method == target_method:\n",
    "        \n",
    "                # Get all the method details\n",
    "                method_details = analysis.get_method(qualified_class_name=class_name,\n",
    "                                                     qualified_method_name=method)\n",
    "                \n",
    "                # Sanitize the class for analysis with respect to the target method\n",
    "                sanitized_class = tree_sitter_utils.sanitize_focal_class(method_details.declaration)\n",
    "        \n",
    "                # Format the instruction for the given target method and class\n",
    "                instruction = format_inst(\n",
    "                    code=sanitized_class,\n",
    "                    focal_method=method_details.declaration,\n",
    "                    focal_class=class_name.split(\".\")[-1],\n",
    "                    language=\"java\"\n",
    "                )\n",
    "    \n",
    "                print(f\"Instruction:\\n{instruction}\\n\")\n",
    "                print(f\"Generating code summary ...\\n\")\n",
    "                \n",
    "                # Prompt the local model on Ollama\n",
    "                llm_output = prompt_ollama(message=instruction)\n",
    "        \n",
    "                # Print the LLM output\n",
    "                print(f\"LLM Output:\\n{llm_output}\")"
   ]
  },
  {
   "cell_type": "code",
   "execution_count": 24,
   "id": "6c813ce0-ad30-4530-b1ab-54c4b9ce1282",
   "metadata": {},
   "outputs": [
    {
     "data": {
      "text/plain": [
       "<cldk.analysis.java.java.JavaAnalysis at 0x120c25cd0>"
      ]
     },
     "execution_count": 24,
     "metadata": {},
     "output_type": "execute_result"
    }
   ],
   "source": [
    "analysis"
   ]
  },
  {
   "cell_type": "code",
   "execution_count": 28,
   "id": "e28d6bfc-fd65-4c8b-ac42-ae4f4ea3f378",
   "metadata": {},
   "outputs": [],
   "source": [
    "analysis.get_symbol_table()"
   ]
  },
  {
   "cell_type": "code",
   "execution_count": null,
   "id": "774d2533-22c5-4cc0-8488-4b4e3348331d",
   "metadata": {},
   "outputs": [],
   "source": []
  }
 ],
 "metadata": {
  "kernelspec": {
   "display_name": "Python 3 (ipykernel)",
   "language": "python",
   "name": "python3"
  },
  "language_info": {
   "codemirror_mode": {
    "name": "ipython",
    "version": 3
   },
   "file_extension": ".py",
   "mimetype": "text/x-python",
   "name": "python",
   "nbconvert_exporter": "python",
   "pygments_lexer": "ipython3",
   "version": "3.11.0"
  }
 },
 "nbformat": 4,
 "nbformat_minor": 5
}
