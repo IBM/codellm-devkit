{
 "cells": [
  {
   "cell_type": "markdown",
   "source": [
    "# Using CLDK to validate code translation\n",
    "\n",
    "In this tutorial, we will use CLDK to valdiate translated code.\n",
    "\n",
    "By the end of this tutorial, you will have a very light-weight approach for validating code translated from Java to Python. You'll be able to explore some of the benefits of using CLDK to perform fast and easy program analysis.\n",
    "\n",
    "You will learn how to do the following:\n",
    "\n",
    "<ol>\n",
    "<li> Create a new instance of the CLDK class.\n",
    "<li> Create an analysis object over the Java application.\n",
    "<li> Iterate over all the files in the project.\n",
    "<li> Iterate over all the classes in the file.\n",
    "<li> Iterate over all the methods in the class.\n",
    "<li> Get the code body of the method.\n",
    "<li> Initialize the treesitter utils for the class file content.\n",
    "<li> Sanitize the class for analysis.\n",
    "</ol>\n",
    "Next, we will write a couple of helper methods to:\n",
    "\n",
    "<ol>\n",
    "<li> Format the instruction for the given focal method and class.\n",
    "<li> Prompts the local model on Ollama.\n",
    "<li> Use CLDK to analyze code and get context information for translating code.\n",
    "</ol>"
   ],
   "metadata": {
    "collapsed": false
   },
   "id": "fcac940432e10687"
  },
  {
   "cell_type": "markdown",
   "source": [
    "## Prequisites\n",
    "\n",
    "Before we get started, let's make sure you have the following installed:\n",
    "\n",
    "<ol>\n",
    "<li> Python 3.11 or later\n",
    "<li> Ollama 0.3.4 or later\n",
    "<li> Java 11 or later\n",
    "</ol>\n",
    "We will use ollama to spin up a local granite model that will act as our LLM for this turorial."
   ],
   "metadata": {
    "collapsed": false
   },
   "id": "e9411e761b32fcbc"
  },
  {
   "cell_type": "markdown",
   "source": [
    "### Prerequisite 1: Install ollama\n",
    "\n",
    "If you don't have ollama installed, please download and install it from here: [Ollama](https://ollama.com/download).\n",
    "Once you have ollama, start the server and make sure it is running. Once ollama is up and running, you can download the latest version of the Granite 8b Instruct model by running the following command:\n",
    "There are other granite versions available, but for this tutorial, we will use the Granite 8b Instruct model. You if prefer to use a different version, you can replace `8b-instruct` with any of the other [versions](https://ollama.com/library/granite-code/tags).\n",
    "Let's make sure the model is downloaded by running the following command:"
   ],
   "metadata": {
    "collapsed": false
   },
   "id": "930b603c7eb3cd55"
  },
  {
   "cell_type": "code",
   "execution_count": null,
   "outputs": [],
   "source": [
    "%%bash\n",
    "ollama run granite-code:8b-instruct \\\"Write a python function to print 'Hello, World!'"
   ],
   "metadata": {
    "collapsed": false
   },
   "id": "635bb847107749f8"
  },
  {
   "cell_type": "markdown",
   "source": [
    "### Prerequisite 3: Install ollama Python SDK"
   ],
   "metadata": {
    "collapsed": false
   },
   "id": "a6015cb7728debca"
  },
  {
   "cell_type": "code",
   "execution_count": null,
   "outputs": [],
   "source": [
    "pip install ollama"
   ],
   "metadata": {
    "collapsed": false
   },
   "id": "9dceb297bbab0ab3"
  },
  {
   "cell_type": "markdown",
   "source": [
    "### Prerequisite 4: Install CLDK\n",
    "CLDK is avaliable on github at github.com/IBM/codellm-devkit.git. You can install it by running the following command:"
   ],
   "metadata": {
    "collapsed": false
   },
   "id": "e06325ad56287f0b"
  },
  {
   "cell_type": "code",
   "execution_count": null,
   "outputs": [],
   "source": [
    "pip install git+https://github.com/IBM/codellm-devkit.git"
   ],
   "metadata": {
    "collapsed": false
   },
   "id": "d6dc34436d0f2d15"
  },
  {
   "cell_type": "markdown",
   "source": [
    "### Step 1: Get the sample Java application\n",
    "For this tutorial, we will use apache commons cli. You can download the source code to a temporary directory by running the following command:"
   ],
   "metadata": {
    "collapsed": false
   },
   "id": "6e4ef425987e53ed"
  },
  {
   "cell_type": "code",
   "execution_count": null,
   "outputs": [],
   "source": [
    "%%bash\n",
    "wget https://github.com/apache/commons-cli/archive/refs/tags/rel/commons-cli-1.7.0.zip -O /tmp/commons-cli-1.7.0.zip && unzip -o /tmp/commons-cli-1.7.0.zip -d /tmp"
   ],
   "metadata": {
    "collapsed": false
   },
   "id": "98ddaf361bb8c025"
  },
  {
   "cell_type": "markdown",
   "source": [
    "The project will now be extracted to `/tmp/commons-cli-rel-commons-cli-1.7.0`. We'll remove these files later, so don't worry about the location."
   ],
   "metadata": {
    "collapsed": false
   },
   "id": "7a963481d3c7d083"
  },
  {
   "cell_type": "markdown",
   "source": [
    "### Translating Jave code to Python and build a light-weight validation logic\n",
    "Code translation aims to convert source code from one programming language (PL) to another. Given the promising abilities of large language models (LLMs) in code synthesis, researchers are exploring their potential to automate code translation. In our recent paper [https://dl.acm.org/doi/10.1145/3597503.3639226]  published at ICSE'24, we found that LLM-based code translation is very promising. In this example, we will walk through the steps of translating each Java class to Python and checking various properties of translated code, such as the number of methods, number of fields, formal arguments, etc.\n",
    "\n",
    "(Step 1) First, we will import all the necessary libraries"
   ],
   "metadata": {
    "collapsed": false
   },
   "id": "47af1410ab0a3b4d"
  },
  {
   "cell_type": "code",
   "execution_count": null,
   "id": "47a78f61a53b2b55",
   "metadata": {
    "collapsed": false
   },
   "outputs": [],
   "source": [
    "from cldk.analysis.python.treesitter import PythonSitter\n",
    "from cldk.analysis.java.treesitter import JavaSitter\n",
    "import ollama\n",
    "from cldk import CLDK\n",
    "from cldk.analysis import AnalysisLevel"
   ]
  },
  {
   "cell_type": "markdown",
   "id": "c6d2f67e1a17cf1",
   "metadata": {
    "collapsed": false
   },
   "source": [
    "(Step 2) Second, we will form the prompt for the model, which will include the body of the Java class after removing all the comments and the import statements."
   ]
  },
  {
   "cell_type": "code",
   "execution_count": null,
   "id": "dc1ec56e92e90c15",
   "metadata": {
    "collapsed": false
   },
   "outputs": [],
   "source": [
    "def format_inst(code, focal_class, language):\n",
    "    \"\"\"\n",
    "    Format the instruction for the given focal method and class.\n",
    "    \"\"\"\n",
    "    inst = f\"Question: Can you translate the Java class `{focal_class}` below to Python and generate under code block (```)?\\n\"\n",
    "\n",
    "    inst += \"\\n\"\n",
    "    inst += f\"```{language}\\n\"\n",
    "    inst += code\n",
    "    inst += \"```\" if code.endswith(\"\\n\") else \"\\n```\"\n",
    "    inst += \"\\n\"\n",
    "    return inst"
   ]
  },
  {
   "cell_type": "markdown",
   "id": "1239041c3315e5e5",
   "metadata": {
    "collapsed": false
   },
   "source": [
    "(Step 3) Create a function to call LLM. There are various ways to achieve that. However, for illustrative purpose, we use ollama, a library to communicate with models downloaded locally."
   ]
  },
  {
   "cell_type": "code",
   "execution_count": null,
   "id": "1c86224032a6eb70",
   "metadata": {
    "collapsed": false
   },
   "outputs": [],
   "source": [
    "def prompt_ollama(message: str, model_id: str = \"granite-code:8b-instruct\") -> str:\n",
    "    \"\"\"Prompt local model on Ollama\"\"\"\n",
    "    response_object = ollama.generate(model=model_id, prompt=message)\n",
    "    return response_object[\"response\"]"
   ]
  },
  {
   "cell_type": "markdown",
   "id": "518efea0d8c4d307",
   "metadata": {
    "collapsed": false
   },
   "source": [
    "(Step 4) Translate each class in the application and check certain properties of the translated code, such as (a) number of translated method, and (b) number of translated fields. "
   ]
  },
  {
   "cell_type": "code",
   "execution_count": null,
   "id": "fe3be3de6790f7b3",
   "metadata": {
    "collapsed": false
   },
   "outputs": [],
   "source": [
    "# Create a new instance of the CLDK class\n",
    "cldk = CLDK(language=\"java\")\n",
    "\n",
    "# Create an analysis object over the java application\n",
    "analysis = cldk.analysis(project_path=\"/tmp/commons-cli-rel-commons-cli-1.7.0\", analysis_level=AnalysisLevel.symbol_table)\n",
    "\n",
    "# For simplicity, we run the code translation for a single class. One can remove that filter to run this code for the entire application\n",
    "qualified_class_name = 'org.apache.commons.cli.GnuParser'\n",
    "\n",
    "# Go through all the classes in the application\n",
    "for class_name in analysis.get_classes():\n",
    "    \n",
    "    if class_name==qualified_class_name:\n",
    "        # Get the location of the Java class\n",
    "        class_path = analysis.get_java_file(qualified_class_name=class_name)\n",
    "        \n",
    "        # Read the file content\n",
    "        if not class_path:\n",
    "            class_body = ''\n",
    "        with open(class_path, 'r', encoding='utf-8', errors='ignore') as f:\n",
    "            class_body = f.read()\n",
    "        \n",
    "        # Sanitize the file content by removing comments.\n",
    "        tree_sitter_utils = cldk.tree_sitter_utils(source_code=class_body)\n",
    "        sanitized_class =  JavaSitter().remove_all_comments(source_code=class_body)\n",
    "\n",
    "        inst = format_inst(code=sanitized_class, language='java', focal_class=class_name.split('.')[-1])\n",
    "\n",
    "        print(f\"Instruction:\\n{inst}\\n\")\n",
    "        print(f\"Translating Java code to Python . . .\\n\")\n",
    "        translated_code = prompt_ollama(\n",
    "                    message=inst)\n",
    "        \n",
    "        print(f\"Translated Python code: {translated_code}\")\n",
    "        py_cldk = PythonSitter()\n",
    "        all_methods = py_cldk.get_all_methods(module=translated_code)\n",
    "        all_functions = py_cldk.get_all_functions(module=translated_code)\n",
    "        all_fields = py_cldk.get_all_fields(module=translated_code)\n",
    "        \n",
    "        if len(all_methods) + len(all_functions) != len(analysis.get_methods_in_class(qualified_class_name=class_name)):\n",
    "            print(f'Number of translated method not matching in class {class_name}')\n",
    "        else:\n",
    "            print(f'Number of translated method in class {class_name} is {len(all_methods)}')\n",
    "        if all_fields:\n",
    "            if len(all_fields) != len(analysis.get_class(qualified_class_name=class_name).field_declarations):\n",
    "                print(f'Number of translated field not matching in class {class_name}')    "
   ]
  }
 ],
 "metadata": {
  "kernelspec": {
   "display_name": "Python 3",
   "language": "python",
   "name": "python3"
  },
  "language_info": {
   "codemirror_mode": {
    "name": "ipython",
    "version": 3
   },
   "file_extension": ".py",
   "mimetype": "text/x-python",
   "name": "python",
   "nbconvert_exporter": "python",
   "pygments_lexer": "ipython3",
   "version": "3.11.4"
  }
 },
 "nbformat": 4,
 "nbformat_minor": 5
}
