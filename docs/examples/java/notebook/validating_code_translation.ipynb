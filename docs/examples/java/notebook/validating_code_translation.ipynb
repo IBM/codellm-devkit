{
 "cells": [
  {
   "cell_type": "markdown",
   "id": "fcac940432e10687",
   "metadata": {
    "collapsed": false
   },
   "source": [
    "# Using CLDK to validate code translation\n",
    "\n",
    "In this tutorial, we will use CLDK to translate code and check properties of the translated code. You'll explore some of the benefits of using CLDK to perform quick and easy program analysis for this task. By the end of this tutorial, you will have implemented a simple Java-to-Python code translator that also performs light-weight property checking on the translated code.\n",
    "\n",
    "Specifically, you will learn how to perform the following tasks on a Java application to create LLM prompts for code translation and checking the translated code:\n",
    "\n",
    "1. Create a new instance of the CLDK class.\n",
    "2. Create an analysis object for the target Java application.\n",
    "3. Iterate over all files in the application.\n",
    "4. Iterate over all classes in a file.\n",
    "5. Sanitize the class for prompting the LLM.\n",
    "6. Create treesitter-based Java and Python analysis objects\n",
    "\n",
    "We will write a couple of helper methods to (1) format the LLM instruction for translating a Java class to Python and (2) prompt the LLM via Ollama. We will then use CLDK to analyze code and get context information for translating code and also checking properties of the translated code."
   ]
  },
  {
   "cell_type": "markdown",
   "id": "e9411e761b32fcbc",
   "metadata": {
    "collapsed": false
   },
   "source": [
    "## Prequisites\n",
    "\n",
    "Before we get started, let's make sure you have the following installed:\n",
    "\n",
    "1. Python 3.11 or later (you can use [pyenv](https://github.com/pyenv/pyenv) to install Python)\n",
    "2. Java 11 or later (you can use [SDKMAN!](https://sdkman.io) to instal Java)\n",
    "3. Ollama 0.3.4 or later (you can get Ollama here: [Ollama download](https://ollama.com/download))\n",
    "\n",
    "We will use Ollama to spin up a local [Granite code model](https://ollama.com/library/granite-code), which will serve as our LLM for this turorial."
   ]
  },
  {
   "cell_type": "markdown",
   "id": "5c7c3ccb",
   "metadata": {},
   "source": [
    "### Download Granite code model\n",
    "\n",
    "After starting the Ollama server, please download the latest version of the Granite code 8b-instruct model by running the following command. There are other Granite code models available, but for this tutorial, we will use Granite code 8b-instruct. If you prefer to use a different Granite code model, you can replace `8b-instruct` with the tag of another version (see [Granite code tags](https://ollama.com/library/granite-code/tags))."
   ]
  },
  {
   "cell_type": "code",
   "execution_count": null,
   "id": "db17a05f",
   "metadata": {},
   "outputs": [],
   "source": [
    "%%bash\n",
    "ollama pull granite-code:8b-instruct"
   ]
  },
  {
   "cell_type": "markdown",
   "id": "930b603c7eb3cd55",
   "metadata": {
    "collapsed": false
   },
   "source": [
    " Let's make sure the model is downloaded by running the following command:"
   ]
  },
  {
   "cell_type": "code",
   "execution_count": null,
   "id": "635bb847107749f8",
   "metadata": {
    "collapsed": false
   },
   "outputs": [],
   "source": [
    "%%bash\n",
    "ollama run granite-code:8b-instruct \\\"Write a python function to print 'Hello, World!'"
   ]
  },
  {
   "cell_type": "markdown",
   "id": "a6015cb7728debca",
   "metadata": {
    "collapsed": false
   },
   "source": [
    "### Install Ollama Python SDK"
   ]
  },
  {
   "cell_type": "code",
   "execution_count": null,
   "id": "9dceb297bbab0ab3",
   "metadata": {
    "collapsed": false
   },
   "outputs": [],
   "source": [
    "pip install ollama"
   ]
  },
  {
   "cell_type": "markdown",
   "id": "e06325ad56287f0b",
   "metadata": {
    "collapsed": false
   },
   "source": [
    "### Install CLDK\n",
    "CLDK is avaliable at https://github.com/IBM/codellm-devkit. You can install it by running the following command:"
   ]
  },
  {
   "cell_type": "code",
   "execution_count": null,
   "id": "d6dc34436d0f2d15",
   "metadata": {
    "collapsed": false
   },
   "outputs": [],
   "source": [
    "pip install git+https://github.com/IBM/codellm-devkit.git"
   ]
  },
  {
   "cell_type": "markdown",
   "id": "6e4ef425987e53ed",
   "metadata": {
    "collapsed": false
   },
   "source": [
    "### Get the sample Java application\n",
    "For this tutorial, we will use [Apache Commons CLI](https://github.com/apache/commons-cli) as the Java application under test. You can download the source code to a temporary directory by running the following command:"
   ]
  },
  {
   "cell_type": "code",
   "execution_count": null,
   "id": "98ddaf361bb8c025",
   "metadata": {
    "collapsed": false
   },
   "outputs": [],
   "source": [
    "%%bash\n",
    "wget https://github.com/apache/commons-cli/archive/refs/tags/rel/commons-cli-1.7.0.zip -O /tmp/commons-cli-1.7.0.zip && unzip -o /tmp/commons-cli-1.7.0.zip -d /tmp"
   ]
  },
  {
   "cell_type": "markdown",
   "id": "7a963481d3c7d083",
   "metadata": {
    "collapsed": false
   },
   "source": [
    "The project will now be extracted to `/tmp/commons-cli-rel-commons-cli-1.7.0`.\n",
    "<!-- We'll remove these files later, so don't worry about the location. -->"
   ]
  },
  {
   "cell_type": "markdown",
   "id": "47af1410ab0a3b4d",
   "metadata": {
    "collapsed": false
   },
   "source": [
    "## Translate Jave code to Python and build a light-weight property checker (for translation validation)\n",
    "Code translation aims to convert source code from one programming language to another. Given the promising abilities of large language models (LLMs) in code synthesis, researchers are exploring their potential to automate code translation. In our recent work, [presented at ICSE'24](https://dl.acm.org/doi/10.1145/3597503.3639226), we found that LLM-based code translation is very promising. In this example, we will walk through the steps of translating a Java class to Python and checking various properties of translated code (e.g., number of methods, number of fields, formal arguments, etc.) as a simple form of translation validation.\n",
    "\n",
    "Step 1: Import the required modules"
   ]
  },
  {
   "cell_type": "code",
   "execution_count": null,
   "id": "47a78f61a53b2b55",
   "metadata": {
    "collapsed": false
   },
   "outputs": [],
   "source": [
    "from cldk.analysis.python.treesitter import PythonSitter\n",
    "from cldk.analysis.java.treesitter import JavaSitter\n",
    "import ollama\n",
    "from cldk import CLDK\n",
    "from cldk.analysis import AnalysisLevel"
   ]
  },
  {
   "cell_type": "markdown",
   "id": "c6d2f67e1a17cf1",
   "metadata": {
    "collapsed": false
   },
   "source": [
    "Step 2: Define a function for creating the LLM prompt, which instructs the LLM to translate a Java class to Python and includes the body of the Java class after removing all the comments and import statements."
   ]
  },
  {
   "cell_type": "code",
   "execution_count": null,
   "id": "dc1ec56e92e90c15",
   "metadata": {
    "collapsed": false
   },
   "outputs": [],
   "source": [
    "def format_inst(code, focal_class, language):\n",
    "    \"\"\"\n",
    "    Format the instruction for the given focal method and class.\n",
    "    \"\"\"\n",
    "    inst = f\"Question: Can you translate the Java class `{focal_class}` below to Python and generate under code block (```)?\\n\"\n",
    "\n",
    "    inst += \"\\n\"\n",
    "    inst += f\"```{language}\\n\"\n",
    "    inst += code\n",
    "    inst += \"```\" if code.endswith(\"\\n\") else \"\\n```\"\n",
    "    inst += \"\\n\"\n",
    "    return inst"
   ]
  },
  {
   "cell_type": "markdown",
   "id": "1239041c3315e5e5",
   "metadata": {
    "collapsed": false
   },
   "source": [
    "Step 3: Define a function to call the LLM (in this case, Granite code 8b-instruct) using Ollama."
   ]
  },
  {
   "cell_type": "code",
   "execution_count": null,
   "id": "1c86224032a6eb70",
   "metadata": {
    "collapsed": false
   },
   "outputs": [],
   "source": [
    "def prompt_ollama(message: str, model_id: str = \"granite-code:8b-instruct\") -> str:\n",
    "    \"\"\"Prompt local model on Ollama\"\"\"\n",
    "    response_object = ollama.generate(model=model_id, prompt=message)\n",
    "    return response_object[\"response\"]"
   ]
  },
  {
   "cell_type": "markdown",
   "id": "518efea0d8c4d307",
   "metadata": {
    "collapsed": false
   },
   "source": [
    "Step 4: Translate a class of the Java application to Python and check for two properties of the translated code: number of translated method and number of translated fields. "
   ]
  },
  {
   "cell_type": "code",
   "execution_count": null,
   "id": "fe3be3de6790f7b3",
   "metadata": {
    "collapsed": false
   },
   "outputs": [],
   "source": [
    "# Create an instance of CLDK for Java analysis\n",
    "cldk = CLDK(language=\"java\")\n",
    "\n",
    "# Create an analysis object for the Java application, providing the application path\n",
    "analysis = cldk.analysis(project_path=\"/tmp/commons-cli-rel-commons-cli-1.7.0\", analysis_level=AnalysisLevel.symbol_table)\n",
    "\n",
    "# For simplicity, we run the code translation on a single class(this filter can be removed to run this code over the entire application)\n",
    "target_class = \"org.apache.commons.cli.GnuParser\"\n",
    "\n",
    "# Go through all the classes in the application\n",
    "for class_name in analysis.get_classes():\n",
    "    \n",
    "    if class_name == target_class:\n",
    "        # Get the location of the Java class\n",
    "        class_path = analysis.get_java_file(qualified_class_name=class_name)\n",
    "        \n",
    "        # Read the file content\n",
    "        if not class_path:\n",
    "            class_body = \"\"\n",
    "        with open(class_path, \"r\", encoding=\"utf-8\", errors=\"ignore\") as f:\n",
    "            class_body = f.read()\n",
    "        \n",
    "        # Sanitize the file content by removing comments\n",
    "        sanitized_class =  JavaSitter().remove_all_comments(source_code=class_body)\n",
    "\n",
    "        # Create prompt for translating sanitized Java class to Python\n",
    "        inst = format_inst(code=sanitized_class, language=\"java\", focal_class=class_name.split(\".\")[-1])\n",
    "\n",
    "        print(f\"Instruction:\\n{inst}\\n\")\n",
    "        print(f\"Translating Java code to Python . . .\\n\")\n",
    "\n",
    "        # Prompt the local model on Ollama\n",
    "        translated_code = prompt_ollama(message=inst)\n",
    "        \n",
    "        # Print translated code\n",
    "        print(f\"Translated Python code: {translated_code}\\n\")\n",
    "\n",
    "        # Create python sitter instance for analyzing translated Python code\n",
    "        py_cldk = PythonSitter()\n",
    "\n",
    "        # Compute methods, function, and field counts for translated code\n",
    "        all_methods = py_cldk.get_all_methods(module=translated_code)\n",
    "        all_functions = py_cldk.get_all_functions(module=translated_code)\n",
    "        all_fields = py_cldk.get_all_fields(module=translated_code)\n",
    "        \n",
    "        # Check counts against method and field counts for Java code\n",
    "        if len(all_methods) + len(all_functions) != len(analysis.get_methods_in_class(qualified_class_name=class_name)):\n",
    "            print(f'Number of translated method not matching in class {class_name}')\n",
    "        else:\n",
    "            print(f'Number of translated method in class {class_name} is {len(all_methods)}')\n",
    "        if all_fields is not None:\n",
    "            if len(all_fields) != len(analysis.get_class(qualified_class_name=class_name).field_declarations):\n",
    "                print(f'Number of translated field not matching in class {class_name}')\n",
    "            else:\n",
    "                print(f'Number of translated fields in class {class_name} is {len(all_fields)}')\n"
   ]
  }
 ],
 "metadata": {
  "kernelspec": {
   "display_name": "Python 3",
   "language": "python",
   "name": "python3"
  },
  "language_info": {
   "codemirror_mode": {
    "name": "ipython",
    "version": 3
   },
   "file_extension": ".py",
   "mimetype": "text/x-python",
   "name": "python",
   "nbconvert_exporter": "python",
   "pygments_lexer": "ipython3",
   "version": "3.11.9"
  }
 },
 "nbformat": 4,
 "nbformat_minor": 5
}
